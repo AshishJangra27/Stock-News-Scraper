{
 "cells": [
  {
   "cell_type": "code",
   "execution_count": 40,
   "id": "e0a2f5d6",
   "metadata": {},
   "outputs": [
    {
     "name": "stdout",
     "output_type": "stream",
     "text": [
      "Enter the title: Bitcoin News\n"
     ]
    }
   ],
   "source": [
    "import os\n",
    "import requests\n",
    "import pandas as pd\n",
    "from bs4 import BeautifulSoup\n",
    "\n",
    "topic = input('Enter the title: ').replace(' ','+')\n",
    "\n",
    "link = 'https://www.google.com/search?q=' + topic + '&&tbm=nws'\n",
    "res = requests.get(link)\n",
    "\n",
    "soup = BeautifulSoup(res.text, 'html.parser')"
   ]
  },
  {
   "cell_type": "code",
   "execution_count": 41,
   "id": "921ae371",
   "metadata": {},
   "outputs": [
    {
     "name": "stdout",
     "output_type": "stream",
     "text": [
      "Top Cryptocurrency News Today: The biggest moves in NFTs, bitcoin, crypto rules and moreMoneycontrol\n",
      "https://www.business-standard.com/article/markets/bitcoin-tops-44-000-in-tentative-comeback-as-portfolio-hedge-122030100558_1.html\n",
      "Top Cryptocurrency News On March 2: Biggest moves in Bitcoin, crypto policies and moreMoneycontrol\n",
      "https://www.indiatoday.in/business/story/bitcoin-price-usd-cryptocurrency-price-russia-ukraine-war-1919212-2022-03-01\n",
      "Japanese Online Retail Giant Rakuten Launches NFT Marketplace ...Bitcoin News\n",
      "https://www.moneycontrol.com/news/business/cryptocurrency/top-cryptocurrency-news-today-the-biggest-moves-in-nfts-bitcoin-crypto-rules-and-more-29-8186151.html\n",
      "Bitcoin sanctions could be next, but most Russians won't careCNBC\n",
      "https://cointelegraph.com/news/analysts-say-bulls-will-aim-for-48k-now-that-bitcoin-s-accumulation-phase-has-begun\n",
      "Bitcoin Fades From Resistance; Support at $40KCoinDesk\n",
      "https://www.moneycontrol.com/news/business/cryptocurrency/top-cryptocurrency-news-on-march-2-biggest-moves-in-bitcoin-crypto-policies-and-more-8181561.html\n",
      "Mobius Capital Founder Explains Why Bitcoin Is Rallying Amid ...Bitcoin News\n",
      "https://www.cnbc.com/2022/03/02/bitcoin-sanctions-could-be-next-as-doj-unveils-crypto-crackdown-plans.html\n",
      "Analysts say bulls will aim for $48K now that Bitcoin’s ‘accumulation phase’ has begunCointelegraph\n",
      "https://news.bitcoin.com/japanese-online-retail-giant-rakuten-launches-nft-marketplace/\n",
      "Bitcoin makes largest gain in a year; check latest priceIndia Today\n",
      "https://news.bitcoin.com/mobius-capital-founder-explains-why-bitcoin-is-rallying-russia-ukraine-war/\n",
      "Bitcoin tops $44,000 in tentative comeback as portfolio hedgeBusiness Standard\n",
      "https://www.coindesk.com/markets/2022/03/02/bitcoin-fades-from-resistance-support-at-40k/\n",
      "Bitcoin booms as the rouble tumbles: What role is crypto playing in the Ukraine war?Euronews\n",
      "https://www.euronews.com/next/2022/03/01/bitcoin-overtakes-flatlining-rouble-as-a-more-valuable-currency-as-russia-sanctions-bite\n"
     ]
    }
   ],
   "source": [
    "news = []\n",
    "link = []\n",
    "\n",
    "for i in soup.find_all('a')[17:-6]:\n",
    "    news.append(i.text)\n",
    "    link.append(i.get('href')[7:-88])\n",
    "    \n",
    "link = list(set(link))\n",
    "\n",
    "news_fin = []\n",
    "for i in range(len(news)):\n",
    "    if(i%2 == 0):\n",
    "        news_fin.append(news[i])\n",
    "        \n",
    "for i in range(len(link)):\n",
    "    \n",
    "    print(news_fin[i])\n",
    "#     os.system('say '+ news_fin[i])\n",
    "    \n",
    "    print(link[i])"
   ]
  },
  {
   "cell_type": "code",
   "execution_count": 32,
   "id": "60557e50",
   "metadata": {},
   "outputs": [],
   "source": [
    "news_fin = pd.Series(news_fin)\n",
    "link     = pd.Series(link )\n",
    "\n",
    "df = pd.concat([news_fin,link], axis = 1)"
   ]
  },
  {
   "cell_type": "code",
   "execution_count": 34,
   "id": "a35ce405",
   "metadata": {},
   "outputs": [],
   "source": [
    "df.to_csv('news.csv')"
   ]
  },
  {
   "cell_type": "code",
   "execution_count": null,
   "id": "baf4acf7",
   "metadata": {},
   "outputs": [],
   "source": []
  }
 ],
 "metadata": {
  "kernelspec": {
   "display_name": "Python 3 (ipykernel)",
   "language": "python",
   "name": "python3"
  },
  "language_info": {
   "codemirror_mode": {
    "name": "ipython",
    "version": 3
   },
   "file_extension": ".py",
   "mimetype": "text/x-python",
   "name": "python",
   "nbconvert_exporter": "python",
   "pygments_lexer": "ipython3",
   "version": "3.9.7"
  }
 },
 "nbformat": 4,
 "nbformat_minor": 5
}
